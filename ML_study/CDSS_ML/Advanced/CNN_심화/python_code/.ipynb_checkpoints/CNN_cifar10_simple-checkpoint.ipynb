{
 "cells": [
  {
   "cell_type": "code",
   "execution_count": 3,
   "metadata": {},
   "outputs": [],
   "source": [
    "import tensorflow as tf\n",
    "from tensorflow.keras import datasets, layers, models, optimizers"
   ]
  },
  {
   "cell_type": "code",
   "execution_count": 3,
   "metadata": {},
   "outputs": [],
   "source": [
    "#constant\n",
    "BATCH_SIZE = 128\n",
    "EPOCHS = 20\n",
    "CLASSES = 10\n",
    "VERBOSE = 1\n",
    "VALIDATION_SPLIT = 0.2\n",
    "OPTIM = tf.keras.optimizers.RMSprop()"
   ]
  },
  {
   "cell_type": "code",
   "execution_count": 1,
   "metadata": {},
   "outputs": [],
   "source": [
    "#define the convnet \n",
    "def build(input_shape, classes):\n",
    "    model = models.Sequential() \n",
    "    model.add(layers.Convolution2D(32, (3, 3), activation='relu',\n",
    "                        input_shape=input_shape))\n",
    "    model.add(layers.MaxPooling2D(pool_size=(2, 2)))\n",
    "    model.add(layers.Dropout(0.25)) \n",
    "\n",
    "    model.add(layers.Flatten())\n",
    "    model.add(layers.Dense(512, activation='relu'))\n",
    "    model.add(layers.Dropout(0.5))\n",
    "    model.add(layers.Dense(classes, activation='softmax'))\n",
    "    return model"
   ]
  },
  {
   "cell_type": "code",
   "execution_count": 4,
   "metadata": {},
   "outputs": [
    {
     "ename": "NameError",
     "evalue": "name 'CLASSES' is not defined",
     "output_type": "error",
     "traceback": [
      "\u001b[1;31m-----------------------------------------------------------\u001b[0m",
      "\u001b[1;31mNameError\u001b[0m                 Traceback (most recent call last)",
      "\u001b[1;32m<ipython-input-4-c465817985f5>\u001b[0m in \u001b[0;36m<module>\u001b[1;34m()\u001b[0m\n\u001b[0;32m      5\u001b[0m \u001b[1;31m# convert to categorical\u001b[0m\u001b[1;33m\u001b[0m\u001b[1;33m\u001b[0m\u001b[0m\n\u001b[0;32m      6\u001b[0m \u001b[1;31m# convert class vectors to binary class matrices\u001b[0m\u001b[1;33m\u001b[0m\u001b[1;33m\u001b[0m\u001b[0m\n\u001b[1;32m----> 7\u001b[1;33m \u001b[0my_train\u001b[0m \u001b[1;33m=\u001b[0m \u001b[0mtf\u001b[0m\u001b[1;33m.\u001b[0m\u001b[0mkeras\u001b[0m\u001b[1;33m.\u001b[0m\u001b[0mutils\u001b[0m\u001b[1;33m.\u001b[0m\u001b[0mto_categorical\u001b[0m\u001b[1;33m(\u001b[0m\u001b[0my_train\u001b[0m\u001b[1;33m,\u001b[0m \u001b[0mCLASSES\u001b[0m\u001b[1;33m)\u001b[0m\u001b[1;33m\u001b[0m\u001b[0m\n\u001b[0m\u001b[0;32m      8\u001b[0m \u001b[0my_test\u001b[0m \u001b[1;33m=\u001b[0m \u001b[0mtf\u001b[0m\u001b[1;33m.\u001b[0m\u001b[0mkeras\u001b[0m\u001b[1;33m.\u001b[0m\u001b[0mutils\u001b[0m\u001b[1;33m.\u001b[0m\u001b[0mto_categorical\u001b[0m\u001b[1;33m(\u001b[0m\u001b[0my_test\u001b[0m\u001b[1;33m,\u001b[0m \u001b[0mCLASSES\u001b[0m\u001b[1;33m)\u001b[0m\u001b[1;33m\u001b[0m\u001b[0m\n",
      "\u001b[1;31mNameError\u001b[0m: name 'CLASSES' is not defined"
     ]
    }
   ],
   "source": [
    "# data: shuffled and split between train and test sets\n",
    "(X_train, y_train), (X_test, y_test) = datasets.cifar10.load_data()\n",
    "# normalize\n",
    "X_train, X_test = X_train / 255.0, X_test / 255.0\n",
    "# convert to categorical\n",
    "# convert class vectors to binary class matrices\n",
    "y_train = tf.keras.utils.to_categorical(y_train, CLASSES)\n",
    "y_test = tf.keras.utils.to_categorical(y_test, CLASSES)"
   ]
  },
  {
   "cell_type": "code",
   "execution_count": null,
   "metadata": {},
   "outputs": [],
   "source": [
    "model=build((32, 32, 3), 10)\n",
    "model.summary()"
   ]
  },
  {
   "cell_type": "code",
   "execution_count": 7,
   "metadata": {},
   "outputs": [
    {
     "name": "stdout",
     "output_type": "stream",
     "text": [
      "Epoch 1/20\n",
      "  1/313 [..............................] - ETA: 0s - loss: 2.3952 - accuracy: 0.0859WARNING:tensorflow:From C:\\Users\\Sang\\Anaconda3\\lib\\site-packages\\tensorflow\\python\\ops\\summary_ops_v2.py:1277: stop (from tensorflow.python.eager.profiler) is deprecated and will be removed after 2020-07-01.\n",
      "Instructions for updating:\n",
      "use `tf.profiler.experimental.stop` instead.\n",
      "  2/313 [..............................] - ETA: 1:13 - loss: 3.5129 - accuracy: 0.0938WARNING:tensorflow:Callbacks method `on_train_batch_end` is slow compared to the batch time (batch time: 0.1811s vs `on_train_batch_end` time: 0.2867s). Check your callbacks.\n",
      "313/313 [==============================] - 61s 194ms/step - loss: 1.6833 - accuracy: 0.4091 - val_loss: 1.4628 - val_accuracy: 0.4925\n",
      "Epoch 2/20\n",
      "313/313 [==============================] - 64s 205ms/step - loss: 1.3492 - accuracy: 0.5269 - val_loss: 1.2266 - val_accuracy: 0.5644\n",
      "Epoch 3/20\n",
      "313/313 [==============================] - 64s 203ms/step - loss: 1.2192 - accuracy: 0.5747 - val_loss: 1.2322 - val_accuracy: 0.5592\n",
      "Epoch 4/20\n",
      "313/313 [==============================] - 59s 189ms/step - loss: 1.1316 - accuracy: 0.6058 - val_loss: 1.2332 - val_accuracy: 0.5770\n",
      "Epoch 5/20\n",
      "313/313 [==============================] - 60s 190ms/step - loss: 1.0586 - accuracy: 0.6327 - val_loss: 1.1395 - val_accuracy: 0.6049\n",
      "Epoch 6/20\n",
      "313/313 [==============================] - 57s 181ms/step - loss: 0.9996 - accuracy: 0.6498 - val_loss: 1.1763 - val_accuracy: 0.6034\n",
      "Epoch 7/20\n",
      "313/313 [==============================] - 59s 188ms/step - loss: 0.9406 - accuracy: 0.6719 - val_loss: 0.9984 - val_accuracy: 0.6589\n",
      "Epoch 8/20\n",
      "313/313 [==============================] - 58s 185ms/step - loss: 0.9028 - accuracy: 0.6856 - val_loss: 1.0554 - val_accuracy: 0.6331\n",
      "Epoch 9/20\n",
      "313/313 [==============================] - 61s 195ms/step - loss: 0.8508 - accuracy: 0.7052 - val_loss: 0.9970 - val_accuracy: 0.6630\n",
      "Epoch 10/20\n",
      "313/313 [==============================] - 68s 216ms/step - loss: 0.8049 - accuracy: 0.7200 - val_loss: 1.0524 - val_accuracy: 0.6549\n",
      "Epoch 11/20\n",
      "313/313 [==============================] - 62s 199ms/step - loss: 0.7736 - accuracy: 0.7329 - val_loss: 1.0457 - val_accuracy: 0.6495\n",
      "Epoch 12/20\n",
      "313/313 [==============================] - 55s 175ms/step - loss: 0.7403 - accuracy: 0.7420 - val_loss: 0.9959 - val_accuracy: 0.6610\n",
      "Epoch 13/20\n",
      "313/313 [==============================] - 54s 173ms/step - loss: 0.7128 - accuracy: 0.7539 - val_loss: 1.0409 - val_accuracy: 0.6665\n",
      "Epoch 14/20\n",
      "313/313 [==============================] - 54s 174ms/step - loss: 0.6868 - accuracy: 0.7624 - val_loss: 0.9982 - val_accuracy: 0.6776\n",
      "Epoch 15/20\n",
      "313/313 [==============================] - 54s 172ms/step - loss: 0.6517 - accuracy: 0.7756 - val_loss: 1.0117 - val_accuracy: 0.6718\n",
      "Epoch 16/20\n",
      "313/313 [==============================] - 54s 173ms/step - loss: 0.6279 - accuracy: 0.7838 - val_loss: 1.0128 - val_accuracy: 0.6914\n",
      "Epoch 17/20\n",
      "313/313 [==============================] - 55s 175ms/step - loss: 0.6116 - accuracy: 0.7884 - val_loss: 1.0671 - val_accuracy: 0.6675\n",
      "Epoch 18/20\n",
      "313/313 [==============================] - 55s 176ms/step - loss: 0.5925 - accuracy: 0.7973 - val_loss: 1.0858 - val_accuracy: 0.6636\n",
      "Epoch 19/20\n",
      "313/313 [==============================] - 55s 177ms/step - loss: 0.5665 - accuracy: 0.8061 - val_loss: 1.0241 - val_accuracy: 0.6849\n",
      "Epoch 20/20\n",
      "313/313 [==============================] - 54s 174ms/step - loss: 0.5536 - accuracy: 0.8095 - val_loss: 1.0675 - val_accuracy: 0.6779\n"
     ]
    },
    {
     "data": {
      "text/plain": [
       "<tensorflow.python.keras.callbacks.History at 0x1a807cf55f8>"
      ]
     },
     "execution_count": 7,
     "metadata": {},
     "output_type": "execute_result"
    }
   ],
   "source": [
    "# use TensorBoard, princess Aurora!\n",
    "callbacks = [\n",
    "  # Write TensorBoard logs to `./logs` directory\n",
    "  tf.keras.callbacks.TensorBoard(log_dir='./logs')\n",
    "]\n",
    "\n",
    "# train\n",
    "model.compile(loss='categorical_crossentropy', optimizer=OPTIM, metrics=['accuracy'])\n",
    " \n",
    "model.fit(X_train, y_train, batch_size=BATCH_SIZE, epochs=EPOCHS, validation_split=VALIDATION_SPLIT, verbose=VERBOSE, callbacks=callbacks) "
   ]
  },
  {
   "cell_type": "code",
   "execution_count": 8,
   "metadata": {},
   "outputs": [],
   "source": [
    "%load_ext tensorboard"
   ]
  },
  {
   "cell_type": "code",
   "execution_count": 11,
   "metadata": {
    "scrolled": true
   },
   "outputs": [
    {
     "data": {
      "text/plain": [
       "Reusing TensorBoard on port 6006 (pid 32180), started 0:04:20 ago. (Use '!kill 32180' to kill it.)"
      ]
     },
     "metadata": {},
     "output_type": "display_data"
    },
    {
     "data": {
      "text/html": [
       "\n",
       "      <iframe id=\"tensorboard-frame-562d4096b49a19f\" width=\"100%\" height=\"800\" frameborder=\"0\">\n",
       "      </iframe>\n",
       "      <script>\n",
       "        (function() {\n",
       "          const frame = document.getElementById(\"tensorboard-frame-562d4096b49a19f\");\n",
       "          const url = new URL(\"/\", window.location);\n",
       "          const port = 6006;\n",
       "          if (port) {\n",
       "            url.port = port;\n",
       "          }\n",
       "          frame.src = url;\n",
       "        })();\n",
       "      </script>\n",
       "    "
      ],
      "text/plain": [
       "<IPython.core.display.HTML object>"
      ]
     },
     "metadata": {},
     "output_type": "display_data"
    }
   ],
   "source": [
    "%tensorboard --logdir=./logs"
   ]
  },
  {
   "cell_type": "code",
   "execution_count": null,
   "metadata": {},
   "outputs": [],
   "source": [
    "score = model.evaluate(X_test, y_test, batch_size=BATCH_SIZE, verbose=VERBOSE)\n",
    "print(\"\\nTest score:\", score[0])\n",
    "print('Test accuracy:', score[1])"
   ]
  }
 ],
 "metadata": {
  "kernelspec": {
   "display_name": "Python 3",
   "language": "python",
   "name": "python3"
  },
  "language_info": {
   "codemirror_mode": {
    "name": "ipython",
    "version": 3
   },
   "file_extension": ".py",
   "mimetype": "text/x-python",
   "name": "python",
   "nbconvert_exporter": "python",
   "pygments_lexer": "ipython3",
   "version": "3.7.0"
  }
 },
 "nbformat": 4,
 "nbformat_minor": 2
}
