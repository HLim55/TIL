{
 "cells": [
  {
   "cell_type": "code",
   "execution_count": 1,
   "metadata": {},
   "outputs": [],
   "source": [
    "import tensorflow as tf\n",
    "import os\n",
    "from tensorflow.keras.models import Sequential\n",
    "from tensorflow.keras.layers import Dense, Conv2D, MaxPool2D , Flatten\n",
    "from tensorflow.keras.preprocessing.image import ImageDataGenerator\n",
    "from tensorflow.keras.applications.vgg16 import preprocess_input\n",
    "import numpy as np"
   ]
  },
  {
   "cell_type": "code",
   "execution_count": 2,
   "metadata": {},
   "outputs": [],
   "source": [
    "TRAIN_DATA_DIR = './cats_and_dogs_small/train'\n",
    "VALIDATION_DATA_DIR = './cats_and_dogs_small/validation'\n",
    "TEST_DATA_DIR = './cats_and_dogs_small/test'"
   ]
  },
  {
   "cell_type": "code",
   "execution_count": 3,
   "metadata": {},
   "outputs": [],
   "source": [
    "TRAIN_SAMPLES = 800*2\n",
    "VALIDATION_SAMPLES = 400*2\n",
    "NUM_CLASSES = 2\n",
    "IMG_WIDTH, IMG_HEIGHT = 224, 224\n",
    "BATCH_SIZE = 64"
   ]
  },
  {
   "cell_type": "code",
   "execution_count": 4,
   "metadata": {},
   "outputs": [
    {
     "name": "stdout",
     "output_type": "stream",
     "text": [
      "Found 1600 images belonging to 2 classes.\n",
      "Found 800 images belonging to 2 classes.\n"
     ]
    }
   ],
   "source": [
    "train_datagen = ImageDataGenerator(preprocessing_function=preprocess_input)\n",
    "train_generator = train_datagen.flow_from_directory(directory=TRAIN_DATA_DIR,target_size=(224,224))\n",
    "val_datagen = ImageDataGenerator(preprocessing_function=preprocess_input)\n",
    "validation_generator= val_datagen.flow_from_directory(directory=VALIDATION_DATA_DIR, target_size=(224,224))"
   ]
  },
  {
   "cell_type": "code",
   "execution_count": 5,
   "metadata": {},
   "outputs": [],
   "source": [
    "def model_maker():\n",
    "    model = Sequential()\n",
    "    model.add(Conv2D(64,kernel_size=(3,3), input_shape=(224,224,3),padding=\"same\", activation=\"relu\"))\n",
    "    model.add(Conv2D(filters=64,kernel_size=(3,3),padding=\"same\", activation=\"relu\"))\n",
    "    model.add(MaxPool2D(pool_size=(2,2),strides=(2,2)))\n",
    "    model.add(Conv2D(filters=128, kernel_size=(3,3), padding=\"same\", activation=\"relu\"))\n",
    "    model.add(Conv2D(filters=128, kernel_size=(3,3), padding=\"same\", activation=\"relu\"))\n",
    "    model.add(MaxPool2D(pool_size=(2,2),strides=(2,2)))\n",
    "    model.add(Conv2D(filters=256, kernel_size=(3,3), padding=\"same\", activation=\"relu\"))\n",
    "    model.add(Conv2D(filters=256, kernel_size=(3,3), padding=\"same\", activation=\"relu\"))\n",
    "    model.add(Conv2D(filters=256, kernel_size=(3,3), padding=\"same\", activation=\"relu\"))\n",
    "    model.add(MaxPool2D(pool_size=(2,2),strides=(2,2)))\n",
    "    model.add(Conv2D(filters=512, kernel_size=(3,3), padding=\"same\", activation=\"relu\"))\n",
    "    model.add(Conv2D(filters=512, kernel_size=(3,3), padding=\"same\", activation=\"relu\"))\n",
    "    model.add(Conv2D(filters=512, kernel_size=(3,3), padding=\"same\", activation=\"relu\"))\n",
    "    model.add(MaxPool2D(pool_size=(2,2),strides=(2,2)))\n",
    "    model.add(Conv2D(filters=512, kernel_size=(3,3), padding=\"same\", activation=\"relu\"))\n",
    "    model.add(Conv2D(filters=512, kernel_size=(3,3), padding=\"same\", activation=\"relu\"))\n",
    "    model.add(Conv2D(filters=512, kernel_size=(3,3), padding=\"same\", activation=\"relu\"))\n",
    "    model.add(MaxPool2D(pool_size=(2,2),strides=(2,2)))\n",
    "    model.add(Flatten())\n",
    "    model.add(Dense(units=4096,activation=\"relu\"))\n",
    "    model.add(Dense(units=4096,activation=\"relu\"))\n",
    "    model.add(Dense(units=2, activation=\"softmax\"))\n",
    "    return model"
   ]
  },
  {
   "cell_type": "code",
   "execution_count": 6,
   "metadata": {},
   "outputs": [],
   "source": [
    "model1 = model_maker()"
   ]
  },
  {
   "cell_type": "code",
   "execution_count": 7,
   "metadata": {},
   "outputs": [
    {
     "name": "stdout",
     "output_type": "stream",
     "text": [
      "Model: \"sequential\"\n",
      "_________________________________________________________________\n",
      "Layer (type)                 Output Shape              Param #   \n",
      "=================================================================\n",
      "conv2d (Conv2D)              (None, 224, 224, 64)      1792      \n",
      "_________________________________________________________________\n",
      "conv2d_1 (Conv2D)            (None, 224, 224, 64)      36928     \n",
      "_________________________________________________________________\n",
      "max_pooling2d (MaxPooling2D) (None, 112, 112, 64)      0         \n",
      "_________________________________________________________________\n",
      "conv2d_2 (Conv2D)            (None, 112, 112, 128)     73856     \n",
      "_________________________________________________________________\n",
      "conv2d_3 (Conv2D)            (None, 112, 112, 128)     147584    \n",
      "_________________________________________________________________\n",
      "max_pooling2d_1 (MaxPooling2 (None, 56, 56, 128)       0         \n",
      "_________________________________________________________________\n",
      "conv2d_4 (Conv2D)            (None, 56, 56, 256)       295168    \n",
      "_________________________________________________________________\n",
      "conv2d_5 (Conv2D)            (None, 56, 56, 256)       590080    \n",
      "_________________________________________________________________\n",
      "conv2d_6 (Conv2D)            (None, 56, 56, 256)       590080    \n",
      "_________________________________________________________________\n",
      "max_pooling2d_2 (MaxPooling2 (None, 28, 28, 256)       0         \n",
      "_________________________________________________________________\n",
      "conv2d_7 (Conv2D)            (None, 28, 28, 512)       1180160   \n",
      "_________________________________________________________________\n",
      "conv2d_8 (Conv2D)            (None, 28, 28, 512)       2359808   \n",
      "_________________________________________________________________\n",
      "conv2d_9 (Conv2D)            (None, 28, 28, 512)       2359808   \n",
      "_________________________________________________________________\n",
      "max_pooling2d_3 (MaxPooling2 (None, 14, 14, 512)       0         \n",
      "_________________________________________________________________\n",
      "conv2d_10 (Conv2D)           (None, 14, 14, 512)       2359808   \n",
      "_________________________________________________________________\n",
      "conv2d_11 (Conv2D)           (None, 14, 14, 512)       2359808   \n",
      "_________________________________________________________________\n",
      "conv2d_12 (Conv2D)           (None, 14, 14, 512)       2359808   \n",
      "_________________________________________________________________\n",
      "max_pooling2d_4 (MaxPooling2 (None, 7, 7, 512)         0         \n",
      "_________________________________________________________________\n",
      "flatten (Flatten)            (None, 25088)             0         \n",
      "_________________________________________________________________\n",
      "dense (Dense)                (None, 4096)              102764544 \n",
      "_________________________________________________________________\n",
      "dense_1 (Dense)              (None, 4096)              16781312  \n",
      "_________________________________________________________________\n",
      "dense_2 (Dense)              (None, 2)                 8194      \n",
      "=================================================================\n",
      "Total params: 134,268,738\n",
      "Trainable params: 134,268,738\n",
      "Non-trainable params: 0\n",
      "_________________________________________________________________\n"
     ]
    }
   ],
   "source": [
    "model1.summary()"
   ]
  },
  {
   "cell_type": "code",
   "execution_count": 8,
   "metadata": {},
   "outputs": [],
   "source": [
    "from tensorflow.keras.optimizers import Adam\n",
    "opt = Adam(lr=0.0001)\n",
    "model1.compile(optimizer=opt, loss='categorical_crossentropy', metrics=['accuracy'])"
   ]
  },
  {
   "cell_type": "code",
   "execution_count": 10,
   "metadata": {},
   "outputs": [
    {
     "name": "stdout",
     "output_type": "stream",
     "text": [
      "Epoch 1/100\n",
      "25/25 [==============================] - 11s 451ms/step - loss: 0.6839 - accuracy: 0.5550 - val_loss: 0.6856 - val_accuracy: 0.6042\n",
      "Epoch 2/100\n",
      "25/25 [==============================] - 11s 455ms/step - loss: 0.6849 - accuracy: 0.5663 - val_loss: 0.6690 - val_accuracy: 0.5599\n",
      "Epoch 3/100\n",
      "25/25 [==============================] - 11s 457ms/step - loss: 0.6790 - accuracy: 0.5813 - val_loss: 0.6913 - val_accuracy: 0.5755\n",
      "Epoch 4/100\n",
      "25/25 [==============================] - 11s 454ms/step - loss: 0.6780 - accuracy: 0.5675 - val_loss: 0.6841 - val_accuracy: 0.5339\n",
      "Epoch 5/100\n",
      "25/25 [==============================] - 11s 453ms/step - loss: 0.6782 - accuracy: 0.5500 - val_loss: 0.6864 - val_accuracy: 0.4714\n",
      "Epoch 6/100\n",
      "25/25 [==============================] - 11s 455ms/step - loss: 0.6876 - accuracy: 0.5225 - val_loss: 0.6876 - val_accuracy: 0.5182\n",
      "Epoch 7/100\n",
      "25/25 [==============================] - 11s 454ms/step - loss: 0.6677 - accuracy: 0.6187 - val_loss: 0.6871 - val_accuracy: 0.5885\n",
      "Epoch 8/100\n",
      "25/25 [==============================] - 11s 456ms/step - loss: 0.6752 - accuracy: 0.6037 - val_loss: 0.6642 - val_accuracy: 0.5781\n",
      "Epoch 9/100\n",
      "25/25 [==============================] - 11s 454ms/step - loss: 0.6848 - accuracy: 0.5975 - val_loss: 0.6758 - val_accuracy: 0.5703\n",
      "Epoch 10/100\n",
      "25/25 [==============================] - 11s 455ms/step - loss: 0.6716 - accuracy: 0.5775 - val_loss: 0.6864 - val_accuracy: 0.5495\n",
      "Epoch 11/100\n",
      "25/25 [==============================] - 11s 454ms/step - loss: 0.6730 - accuracy: 0.5750 - val_loss: 0.6674 - val_accuracy: 0.6068\n",
      "Epoch 12/100\n",
      "25/25 [==============================] - 11s 453ms/step - loss: 0.6403 - accuracy: 0.6400 - val_loss: 0.6867 - val_accuracy: 0.5599\n",
      "Epoch 13/100\n",
      "25/25 [==============================] - 11s 453ms/step - loss: 0.6274 - accuracy: 0.6363 - val_loss: 0.6564 - val_accuracy: 0.6224\n",
      "Epoch 14/100\n",
      "25/25 [==============================] - 11s 454ms/step - loss: 0.6296 - accuracy: 0.6513 - val_loss: 0.6935 - val_accuracy: 0.6042\n",
      "Epoch 15/100\n",
      "25/25 [==============================] - 11s 451ms/step - loss: 0.5657 - accuracy: 0.7013 - val_loss: 0.7182 - val_accuracy: 0.6016\n",
      "Epoch 16/100\n",
      "25/25 [==============================] - 11s 452ms/step - loss: 0.5979 - accuracy: 0.6812 - val_loss: 0.6265 - val_accuracy: 0.6380\n",
      "Epoch 17/100\n",
      "25/25 [==============================] - 11s 453ms/step - loss: 0.5361 - accuracy: 0.7350 - val_loss: 0.8648 - val_accuracy: 0.6276\n",
      "Epoch 18/100\n",
      "25/25 [==============================] - 11s 452ms/step - loss: 0.6013 - accuracy: 0.6737 - val_loss: 0.7000 - val_accuracy: 0.6510\n",
      "Epoch 19/100\n",
      "25/25 [==============================] - 11s 452ms/step - loss: 0.4747 - accuracy: 0.7650 - val_loss: 0.8549 - val_accuracy: 0.6641\n",
      "Epoch 20/100\n",
      "25/25 [==============================] - 11s 453ms/step - loss: 0.4357 - accuracy: 0.7862 - val_loss: 0.8404 - val_accuracy: 0.6484\n",
      "Epoch 21/100\n",
      "25/25 [==============================] - 11s 457ms/step - loss: 0.3063 - accuracy: 0.8712 - val_loss: 1.1037 - val_accuracy: 0.6510\n",
      "Epoch 22/100\n",
      "25/25 [==============================] - 11s 454ms/step - loss: 0.4279 - accuracy: 0.8100 - val_loss: 0.6719 - val_accuracy: 0.6667\n",
      "Epoch 23/100\n",
      "25/25 [==============================] - 11s 453ms/step - loss: 0.4367 - accuracy: 0.8375 - val_loss: 0.6796 - val_accuracy: 0.5885\n",
      "Epoch 24/100\n",
      "25/25 [==============================] - 11s 454ms/step - loss: 0.4118 - accuracy: 0.8112 - val_loss: 0.8734 - val_accuracy: 0.5938\n",
      "Epoch 25/100\n",
      "25/25 [==============================] - 11s 453ms/step - loss: 0.2360 - accuracy: 0.9038 - val_loss: 0.8288 - val_accuracy: 0.6745\n",
      "Epoch 26/100\n",
      "25/25 [==============================] - 11s 452ms/step - loss: 0.2366 - accuracy: 0.9075 - val_loss: 0.9190 - val_accuracy: 0.6354\n",
      "Epoch 27/100\n",
      "25/25 [==============================] - 11s 452ms/step - loss: 0.1151 - accuracy: 0.9613 - val_loss: 1.7800 - val_accuracy: 0.6354\n",
      "Epoch 28/100\n",
      "25/25 [==============================] - 11s 453ms/step - loss: 0.1289 - accuracy: 0.9525 - val_loss: 1.2144 - val_accuracy: 0.6432\n",
      "Epoch 29/100\n",
      "25/25 [==============================] - 11s 455ms/step - loss: 0.0590 - accuracy: 0.9812 - val_loss: 2.4444 - val_accuracy: 0.6641\n",
      "Epoch 30/100\n",
      "25/25 [==============================] - 11s 455ms/step - loss: 0.0957 - accuracy: 0.9688 - val_loss: 1.2370 - val_accuracy: 0.6406\n",
      "Epoch 31/100\n",
      "25/25 [==============================] - 11s 455ms/step - loss: 0.0558 - accuracy: 0.9837 - val_loss: 2.3306 - val_accuracy: 0.6328\n",
      "Epoch 32/100\n",
      "25/25 [==============================] - 11s 452ms/step - loss: 0.0278 - accuracy: 0.9887 - val_loss: 3.6186 - val_accuracy: 0.6406\n",
      "Epoch 33/100\n",
      "25/25 [==============================] - 11s 454ms/step - loss: 0.0760 - accuracy: 0.9825 - val_loss: 1.4432 - val_accuracy: 0.6484\n",
      "Epoch 34/100\n",
      "25/25 [==============================] - 11s 456ms/step - loss: 0.0459 - accuracy: 0.9825 - val_loss: 3.2284 - val_accuracy: 0.6406\n",
      "Epoch 35/100\n",
      "25/25 [==============================] - 11s 452ms/step - loss: 0.0651 - accuracy: 0.9800 - val_loss: 1.8356 - val_accuracy: 0.6615\n",
      "Epoch 36/100\n",
      "25/25 [==============================] - 11s 455ms/step - loss: 0.0326 - accuracy: 0.9912 - val_loss: 2.0806 - val_accuracy: 0.6745\n",
      "Epoch 37/100\n",
      "25/25 [==============================] - 11s 453ms/step - loss: 0.0385 - accuracy: 0.9875 - val_loss: 1.6536 - val_accuracy: 0.6719\n",
      "Epoch 38/100\n",
      "25/25 [==============================] - 11s 453ms/step - loss: 0.0153 - accuracy: 0.9962 - val_loss: 2.5903 - val_accuracy: 0.6380\n",
      "Epoch 39/100\n",
      "25/25 [==============================] - 11s 452ms/step - loss: 0.0200 - accuracy: 0.9950 - val_loss: 2.2545 - val_accuracy: 0.6484\n",
      "Epoch 40/100\n",
      "25/25 [==============================] - 11s 454ms/step - loss: 0.0427 - accuracy: 0.9925 - val_loss: 2.2698 - val_accuracy: 0.6276\n",
      "Epoch 41/100\n",
      "25/25 [==============================] - 11s 453ms/step - loss: 0.0208 - accuracy: 0.9950 - val_loss: 2.5309 - val_accuracy: 0.6224\n",
      "Epoch 42/100\n",
      "25/25 [==============================] - 11s 453ms/step - loss: 0.0235 - accuracy: 0.9925 - val_loss: 2.2340 - val_accuracy: 0.6771\n",
      "Epoch 43/100\n",
      "25/25 [==============================] - 11s 454ms/step - loss: 0.0283 - accuracy: 0.9925 - val_loss: 2.2035 - val_accuracy: 0.6380\n",
      "Epoch 44/100\n",
      "25/25 [==============================] - 11s 453ms/step - loss: 0.0187 - accuracy: 0.9900 - val_loss: 2.3685 - val_accuracy: 0.6693\n",
      "Epoch 45/100\n",
      "25/25 [==============================] - 11s 454ms/step - loss: 0.0057 - accuracy: 1.0000 - val_loss: 3.4217 - val_accuracy: 0.6823\n",
      "Epoch 46/100\n",
      "25/25 [==============================] - 11s 454ms/step - loss: 0.0124 - accuracy: 0.9962 - val_loss: 3.2036 - val_accuracy: 0.6276\n",
      "Epoch 47/100\n",
      "25/25 [==============================] - 11s 454ms/step - loss: 0.0343 - accuracy: 0.9887 - val_loss: 2.6145 - val_accuracy: 0.6432\n",
      "Epoch 48/100\n",
      "25/25 [==============================] - 11s 453ms/step - loss: 0.0444 - accuracy: 0.9900 - val_loss: 2.1628 - val_accuracy: 0.6641\n",
      "Epoch 49/100\n",
      "25/25 [==============================] - 11s 452ms/step - loss: 0.0194 - accuracy: 0.9925 - val_loss: 2.2592 - val_accuracy: 0.6536\n",
      "Epoch 50/100\n",
      "25/25 [==============================] - 11s 451ms/step - loss: 0.0207 - accuracy: 0.9937 - val_loss: 1.9550 - val_accuracy: 0.6693\n",
      "Epoch 51/100\n",
      "25/25 [==============================] - 11s 451ms/step - loss: 0.0034 - accuracy: 1.0000 - val_loss: 2.8281 - val_accuracy: 0.6693\n",
      "Epoch 52/100\n",
      "25/25 [==============================] - 11s 453ms/step - loss: 8.8255e-04 - accuracy: 1.0000 - val_loss: 3.2906 - val_accuracy: 0.6667\n",
      "Epoch 53/100\n",
      "25/25 [==============================] - 11s 451ms/step - loss: 1.6021e-04 - accuracy: 1.0000 - val_loss: 3.7817 - val_accuracy: 0.6771\n",
      "Epoch 54/100\n",
      "25/25 [==============================] - 11s 452ms/step - loss: 5.5196e-05 - accuracy: 1.0000 - val_loss: 4.5048 - val_accuracy: 0.6562\n",
      "Epoch 55/100\n",
      "25/25 [==============================] - 11s 453ms/step - loss: 4.0461e-05 - accuracy: 1.0000 - val_loss: 4.1972 - val_accuracy: 0.6667\n",
      "Epoch 56/100\n",
      "25/25 [==============================] - 11s 452ms/step - loss: 4.4989e-05 - accuracy: 1.0000 - val_loss: 3.5291 - val_accuracy: 0.6797\n",
      "Epoch 57/100\n",
      "25/25 [==============================] - 11s 450ms/step - loss: 3.4799e-05 - accuracy: 1.0000 - val_loss: 4.2456 - val_accuracy: 0.6745\n",
      "Epoch 58/100\n",
      "25/25 [==============================] - 11s 452ms/step - loss: 2.0096e-05 - accuracy: 1.0000 - val_loss: 4.8637 - val_accuracy: 0.6562\n",
      "Epoch 59/100\n",
      "25/25 [==============================] - 11s 451ms/step - loss: 2.6046e-05 - accuracy: 1.0000 - val_loss: 3.7538 - val_accuracy: 0.6771\n",
      "Epoch 60/100\n",
      "25/25 [==============================] - 11s 452ms/step - loss: 1.3834e-05 - accuracy: 1.0000 - val_loss: 4.5406 - val_accuracy: 0.6667\n",
      "Epoch 61/100\n",
      "25/25 [==============================] - 11s 452ms/step - loss: 1.1952e-05 - accuracy: 1.0000 - val_loss: 3.9197 - val_accuracy: 0.6745\n",
      "Epoch 62/100\n",
      "25/25 [==============================] - 11s 453ms/step - loss: 1.9379e-05 - accuracy: 1.0000 - val_loss: 4.1273 - val_accuracy: 0.6771\n",
      "Epoch 63/100\n",
      "25/25 [==============================] - 11s 453ms/step - loss: 9.2817e-06 - accuracy: 1.0000 - val_loss: 4.5546 - val_accuracy: 0.6641\n",
      "Epoch 64/100\n",
      "25/25 [==============================] - 11s 452ms/step - loss: 1.3103e-05 - accuracy: 1.0000 - val_loss: 3.9590 - val_accuracy: 0.6719\n",
      "Epoch 65/100\n",
      "25/25 [==============================] - 11s 452ms/step - loss: 1.3083e-05 - accuracy: 1.0000 - val_loss: 4.8152 - val_accuracy: 0.6641\n",
      "Epoch 66/100\n",
      "25/25 [==============================] - 11s 459ms/step - loss: 5.3568e-06 - accuracy: 1.0000 - val_loss: 4.4138 - val_accuracy: 0.7005\n",
      "Epoch 67/100\n",
      "25/25 [==============================] - 11s 454ms/step - loss: 9.1048e-06 - accuracy: 1.0000 - val_loss: 4.3733 - val_accuracy: 0.6536\n",
      "Epoch 68/100\n",
      "25/25 [==============================] - 11s 451ms/step - loss: 4.8480e-06 - accuracy: 1.0000 - val_loss: 3.8484 - val_accuracy: 0.6927\n",
      "Epoch 69/100\n",
      "25/25 [==============================] - 11s 454ms/step - loss: 4.5735e-06 - accuracy: 1.0000 - val_loss: 5.1854 - val_accuracy: 0.6562\n",
      "Epoch 70/100\n",
      "25/25 [==============================] - 11s 451ms/step - loss: 6.6472e-06 - accuracy: 1.0000 - val_loss: 4.7500 - val_accuracy: 0.6641\n",
      "Epoch 71/100\n",
      "25/25 [==============================] - 11s 451ms/step - loss: 6.2518e-06 - accuracy: 1.0000 - val_loss: 4.9756 - val_accuracy: 0.6745\n",
      "Epoch 72/100\n",
      "25/25 [==============================] - 11s 451ms/step - loss: 1.5471e-06 - accuracy: 1.0000 - val_loss: 4.7723 - val_accuracy: 0.6771\n",
      "Epoch 73/100\n",
      "25/25 [==============================] - 11s 452ms/step - loss: 4.5336e-06 - accuracy: 1.0000 - val_loss: 5.1668 - val_accuracy: 0.6693\n",
      "Epoch 74/100\n",
      "25/25 [==============================] - 11s 453ms/step - loss: 1.9219e-06 - accuracy: 1.0000 - val_loss: 5.1500 - val_accuracy: 0.6745\n",
      "Epoch 75/100\n",
      "25/25 [==============================] - 11s 452ms/step - loss: 1.8398e-06 - accuracy: 1.0000 - val_loss: 5.2403 - val_accuracy: 0.6380\n",
      "Epoch 76/100\n",
      "25/25 [==============================] - 11s 451ms/step - loss: 3.2825e-06 - accuracy: 1.0000 - val_loss: 5.1208 - val_accuracy: 0.6458\n",
      "Epoch 77/100\n",
      "25/25 [==============================] - 11s 451ms/step - loss: 1.3815e-06 - accuracy: 1.0000 - val_loss: 5.3381 - val_accuracy: 0.6771\n",
      "Epoch 78/100\n",
      "25/25 [==============================] - 11s 452ms/step - loss: 2.7801e-06 - accuracy: 1.0000 - val_loss: 5.4272 - val_accuracy: 0.6693\n",
      "Epoch 79/100\n",
      "25/25 [==============================] - 11s 452ms/step - loss: 1.1035e-06 - accuracy: 1.0000 - val_loss: 4.7644 - val_accuracy: 0.6719\n",
      "Epoch 80/100\n",
      "25/25 [==============================] - 11s 452ms/step - loss: 2.4047e-06 - accuracy: 1.0000 - val_loss: 5.2954 - val_accuracy: 0.6667\n",
      "Epoch 81/100\n",
      "25/25 [==============================] - 11s 453ms/step - loss: 1.8991e-06 - accuracy: 1.0000 - val_loss: 5.3114 - val_accuracy: 0.7161\n",
      "Epoch 82/100\n",
      "25/25 [==============================] - 11s 451ms/step - loss: 1.4274e-06 - accuracy: 1.0000 - val_loss: 5.3701 - val_accuracy: 0.6562\n",
      "Epoch 83/100\n",
      "25/25 [==============================] - 11s 452ms/step - loss: 1.5440e-06 - accuracy: 1.0000 - val_loss: 5.2905 - val_accuracy: 0.6615\n",
      "Epoch 84/100\n",
      "25/25 [==============================] - 11s 453ms/step - loss: 7.3625e-07 - accuracy: 1.0000 - val_loss: 5.2302 - val_accuracy: 0.6797\n",
      "Epoch 85/100\n",
      "25/25 [==============================] - 11s 452ms/step - loss: 1.5101e-06 - accuracy: 1.0000 - val_loss: 5.4459 - val_accuracy: 0.6589\n",
      "Epoch 86/100\n",
      "25/25 [==============================] - 11s 452ms/step - loss: 6.8693e-07 - accuracy: 1.0000 - val_loss: 4.9103 - val_accuracy: 0.6953\n",
      "Epoch 87/100\n",
      "25/25 [==============================] - 11s 451ms/step - loss: 5.4895e-07 - accuracy: 1.0000 - val_loss: 6.0880 - val_accuracy: 0.6458\n",
      "Epoch 88/100\n",
      "25/25 [==============================] - 11s 452ms/step - loss: 1.4237e-06 - accuracy: 1.0000 - val_loss: 5.7228 - val_accuracy: 0.6562\n",
      "Epoch 89/100\n",
      "25/25 [==============================] - 11s 453ms/step - loss: 6.2806e-07 - accuracy: 1.0000 - val_loss: 5.1244 - val_accuracy: 0.6875\n",
      "Epoch 90/100\n",
      "25/25 [==============================] - 11s 452ms/step - loss: 1.1454e-06 - accuracy: 1.0000 - val_loss: 5.7681 - val_accuracy: 0.6536\n",
      "Epoch 91/100\n",
      "25/25 [==============================] - 11s 453ms/step - loss: 4.3719e-07 - accuracy: 1.0000 - val_loss: 5.3502 - val_accuracy: 0.6745\n",
      "Epoch 92/100\n",
      "25/25 [==============================] - 11s 452ms/step - loss: 1.1519e-06 - accuracy: 1.0000 - val_loss: 5.4763 - val_accuracy: 0.6719\n",
      "Epoch 93/100\n",
      "25/25 [==============================] - 11s 451ms/step - loss: 9.7471e-07 - accuracy: 1.0000 - val_loss: 6.0055 - val_accuracy: 0.6589\n",
      "Epoch 94/100\n",
      "25/25 [==============================] - 11s 452ms/step - loss: 3.3632e-07 - accuracy: 1.0000 - val_loss: 5.4738 - val_accuracy: 0.6797\n",
      "Epoch 95/100\n",
      "25/25 [==============================] - 11s 451ms/step - loss: 8.5299e-07 - accuracy: 1.0000 - val_loss: 5.5618 - val_accuracy: 0.6797\n",
      "Epoch 96/100\n",
      "25/25 [==============================] - 11s 452ms/step - loss: 4.1037e-07 - accuracy: 1.0000 - val_loss: 5.6381 - val_accuracy: 0.6719\n",
      "Epoch 97/100\n",
      "25/25 [==============================] - 11s 451ms/step - loss: 8.6434e-07 - accuracy: 1.0000 - val_loss: 5.4664 - val_accuracy: 0.6849\n",
      "Epoch 98/100\n",
      "25/25 [==============================] - 11s 453ms/step - loss: 2.7015e-07 - accuracy: 1.0000 - val_loss: 5.8402 - val_accuracy: 0.6406\n",
      "Epoch 99/100\n",
      "25/25 [==============================] - 11s 452ms/step - loss: 2.6434e-07 - accuracy: 1.0000 - val_loss: 5.7918 - val_accuracy: 0.6693\n",
      "Epoch 100/100\n",
      "25/25 [==============================] - 11s 453ms/step - loss: 8.1800e-07 - accuracy: 1.0000 - val_loss: 5.6230 - val_accuracy: 0.7005\n"
     ]
    },
    {
     "data": {
      "text/plain": [
       "<tensorflow.python.keras.callbacks.History at 0x2e684a5ee48>"
      ]
     },
     "execution_count": 10,
     "metadata": {},
     "output_type": "execute_result"
    }
   ],
   "source": [
    "model1.fit_generator(\n",
    "    train_generator,\n",
    "    steps_per_epoch=TRAIN_SAMPLES // BATCH_SIZE, # number of updates\n",
    "    epochs=100,\n",
    "    validation_data=validation_generator,\n",
    "    validation_steps=VALIDATION_SAMPLES // BATCH_SIZE)"
   ]
  },
  {
   "cell_type": "code",
   "execution_count": 11,
   "metadata": {},
   "outputs": [],
   "source": [
    "test_datagen = ImageDataGenerator()"
   ]
  },
  {
   "cell_type": "code",
   "execution_count": 12,
   "metadata": {},
   "outputs": [
    {
     "name": "stdout",
     "output_type": "stream",
     "text": [
      "Found 800 images belonging to 2 classes.\n"
     ]
    }
   ],
   "source": [
    "test_generator = val_datagen.flow_from_directory(\n",
    "    TEST_DATA_DIR,\n",
    "    target_size=(IMG_WIDTH, IMG_HEIGHT),\n",
    "    batch_size=BATCH_SIZE,\n",
    "    shuffle=False,\n",
    "    class_mode='categorical')"
   ]
  },
  {
   "cell_type": "code",
   "execution_count": 13,
   "metadata": {},
   "outputs": [
    {
     "name": "stdout",
     "output_type": "stream",
     "text": [
      "WARNING:tensorflow:From <ipython-input-13-ee63174831fb>:1: Model.evaluate_generator (from tensorflow.python.keras.engine.training) is deprecated and will be removed in a future version.\n",
      "Instructions for updating:\n",
      "Please use Model.evaluate, which supports generators.\n",
      "12/12 [==============================] - 3s 244ms/step - loss: 5.7596 - accuracy: 0.6198\n"
     ]
    },
    {
     "data": {
      "text/plain": [
       "[5.759599208831787, 0.6197916865348816]"
      ]
     },
     "execution_count": 13,
     "metadata": {},
     "output_type": "execute_result"
    }
   ],
   "source": [
    "model1.evaluate_generator(test_generator, steps=800 // BATCH_SIZE,verbose=1)"
   ]
  },
  {
   "cell_type": "code",
   "execution_count": null,
   "metadata": {},
   "outputs": [],
   "source": []
  }
 ],
 "metadata": {
  "kernelspec": {
   "display_name": "Python 3",
   "language": "python",
   "name": "python3"
  },
  "language_info": {
   "codemirror_mode": {
    "name": "ipython",
    "version": 3
   },
   "file_extension": ".py",
   "mimetype": "text/x-python",
   "name": "python",
   "nbconvert_exporter": "python",
   "pygments_lexer": "ipython3",
   "version": "3.7.0"
  }
 },
 "nbformat": 4,
 "nbformat_minor": 2
}
