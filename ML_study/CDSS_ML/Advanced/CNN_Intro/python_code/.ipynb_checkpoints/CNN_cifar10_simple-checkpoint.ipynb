{
 "cells": [
  {
   "cell_type": "code",
   "execution_count": 1,
   "metadata": {},
   "outputs": [],
   "source": [
    "import tensorflow as tf\n",
    "from tensorflow.keras import datasets, layers, models, optimizers"
   ]
  },
  {
   "cell_type": "code",
   "execution_count": 2,
   "metadata": {},
   "outputs": [],
   "source": [
    "#define the convnet \n",
    "def build(input_shape, classes):\n",
    "    model = models.Sequential() \n",
    "    model.add(layers.Convolution2D(32, (3, 3), activation='relu',\n",
    "                        input_shape=input_shape))\n",
    "    model.add(layers.MaxPooling2D(pool_size=(2, 2)))\n",
    "    model.add(layers.Dropout(0.25)) \n",
    "\n",
    "    model.add(layers.Flatten())\n",
    "    model.add(layers.Dense(512, activation='relu'))\n",
    "    model.add(layers.Dropout(0.5))\n",
    "    model.add(layers.Dense(classes, activation='softmax'))\n",
    "    return model"
   ]
  },
  {
   "cell_type": "code",
   "execution_count": 3,
   "metadata": {},
   "outputs": [],
   "source": [
    "# data: shuffled and split between train and test sets\n",
    "(X_train, y_train), (X_test, y_test) = datasets.cifar10.load_data()\n",
    "# normalize\n",
    "X_train, X_test = X_train / 255.0, X_test / 255.0\n",
    "# convert to categorical\n",
    "# convert class vectors to binary class matrices\n",
    "y_train = tf.keras.utils.to_categorical(y_train)\n",
    "y_test = tf.keras.utils.to_categorical(y_test)"
   ]
  },
  {
   "cell_type": "code",
   "execution_count": 4,
   "metadata": {},
   "outputs": [
    {
     "name": "stdout",
     "output_type": "stream",
     "text": [
      "Model: \"sequential\"\n",
      "_________________________________________________________________\n",
      "Layer (type)                 Output Shape              Param #   \n",
      "=================================================================\n",
      "conv2d (Conv2D)              (None, 30, 30, 32)        896       \n",
      "_________________________________________________________________\n",
      "max_pooling2d (MaxPooling2D) (None, 15, 15, 32)        0         \n",
      "_________________________________________________________________\n",
      "dropout (Dropout)            (None, 15, 15, 32)        0         \n",
      "_________________________________________________________________\n",
      "flatten (Flatten)            (None, 7200)              0         \n",
      "_________________________________________________________________\n",
      "dense (Dense)                (None, 512)               3686912   \n",
      "_________________________________________________________________\n",
      "dropout_1 (Dropout)          (None, 512)               0         \n",
      "_________________________________________________________________\n",
      "dense_1 (Dense)              (None, 10)                5130      \n",
      "=================================================================\n",
      "Total params: 3,692,938\n",
      "Trainable params: 3,692,938\n",
      "Non-trainable params: 0\n",
      "_________________________________________________________________\n"
     ]
    }
   ],
   "source": [
    "model=build((32, 32, 3), 10)\n",
    "model.summary()"
   ]
  },
  {
   "cell_type": "code",
   "execution_count": 5,
   "metadata": {},
   "outputs": [
    {
     "name": "stdout",
     "output_type": "stream",
     "text": [
      "Epoch 1/10\n",
      "313/313 [==============================] - 47s 150ms/step - loss: 1.7675 - accuracy: 0.3779 - val_loss: 1.4191 - val_accuracy: 0.4986\n",
      "Epoch 2/10\n",
      "313/313 [==============================] - 50s 161ms/step - loss: 1.3972 - accuracy: 0.5063 - val_loss: 1.4085 - val_accuracy: 0.5064\n",
      "Epoch 3/10\n",
      "313/313 [==============================] - 47s 150ms/step - loss: 1.2737 - accuracy: 0.5546 - val_loss: 1.2683 - val_accuracy: 0.5606\n",
      "Epoch 4/10\n",
      "313/313 [==============================] - 47s 149ms/step - loss: 1.1845 - accuracy: 0.5875 - val_loss: 1.1692 - val_accuracy: 0.5976\n",
      "Epoch 5/10\n",
      "313/313 [==============================] - 47s 150ms/step - loss: 1.1098 - accuracy: 0.6121 - val_loss: 1.0721 - val_accuracy: 0.6288\n",
      "Epoch 6/10\n",
      "313/313 [==============================] - 47s 150ms/step - loss: 1.0469 - accuracy: 0.6335 - val_loss: 1.0861 - val_accuracy: 0.6195\n",
      "Epoch 7/10\n",
      "313/313 [==============================] - 47s 151ms/step - loss: 0.9927 - accuracy: 0.6522 - val_loss: 1.0520 - val_accuracy: 0.6400\n",
      "Epoch 8/10\n",
      "313/313 [==============================] - 50s 160ms/step - loss: 0.9399 - accuracy: 0.6707 - val_loss: 1.0722 - val_accuracy: 0.6350\n",
      "Epoch 9/10\n",
      "313/313 [==============================] - 47s 151ms/step - loss: 0.8935 - accuracy: 0.6888 - val_loss: 1.0210 - val_accuracy: 0.6539\n",
      "Epoch 10/10\n",
      "313/313 [==============================] - 46s 146ms/step - loss: 0.8598 - accuracy: 0.7024 - val_loss: 1.0510 - val_accuracy: 0.6486\n"
     ]
    }
   ],
   "source": [
    "model.compile(loss='categorical_crossentropy', optimizer=tf.keras.optimizers.RMSprop(lr=0.001), metrics=['accuracy'])\n",
    " \n",
    "history = model.fit(X_train, y_train, batch_size=128, epochs=10, validation_split=0.2) "
   ]
  },
  {
   "cell_type": "code",
   "execution_count": 8,
   "metadata": {},
   "outputs": [
    {
     "data": {
      "image/png": "[encoded data removed]",
      "text/plain": [
       "<Figure size 432x288 with 1 Axes>"
      ]
     },
     "metadata": {
      "needs_background": "light"
     },
     "output_type": "display_data"
    }
   ],
   "source": [
    "import matplotlib.pyplot as plt\n",
    "plt.plot(history.history['loss'])\n",
    "plt.plot(history.history['val_loss'])\n",
    "plt.xlabel('epoch')\n",
    "plt.ylabel('loss')\n",
    "plt.legend(['train','val'])\n",
    "plt.show()"
   ]
  },
  {
   "cell_type": "code",
   "execution_count": 9,
   "metadata": {},
   "outputs": [
    {
     "name": "stdout",
     "output_type": "stream",
     "text": [
      "313/313 [==============================] - 3s 11ms/step - loss: 1.0515 - accuracy: 0.6365\n",
      "\n",
      "Test score: 1.051498532295227\n",
      "Test accuracy: 0.6365000009536743\n"
     ]
    }
   ],
   "source": [
    "score = model.evaluate(X_test, y_test)\n",
    "print(\"\\nTest score:\", score[0])\n",
    "print('Test accuracy:', score[1])"
   ]
  },
  {
   "cell_type": "code",
   "execution_count": null,
   "metadata": {},
   "outputs": [],
   "source": []
  }
 ],
 "metadata": {
  "kernelspec": {
   "display_name": "Python 3",
   "language": "python",
   "name": "python3"
  },
  "language_info": {
   "codemirror_mode": {
    "name": "ipython",
    "version": 3
   },
   "file_extension": ".py",
   "mimetype": "text/x-python",
   "name": "python",
   "nbconvert_exporter": "python",
   "pygments_lexer": "ipython3",
   "version": "3.7.9"
  }
 },
 "nbformat": 4,
 "nbformat_minor": 2
}
